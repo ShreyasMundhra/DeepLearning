{
 "cells": [
  {
   "cell_type": "markdown",
   "metadata": {
    "collapsed": true
   },
   "source": [
    "# COMS 4995_002 Deep Learning Assignment 1\n",
    "Due on Thursday, Feb 8, 11:59pm\n",
    "\n",
    "This assignment can be done in groups of at most 2 students. Everyone must submit on Courseworks individually."
   ]
  },
  {
   "cell_type": "markdown",
   "metadata": {},
   "source": [
    "Write down the UNIs of your group (if applicable)\n",
    "\n",
    "Member 1: Apoorv Purwar, ap3644\n",
    "\n",
    "Member 2: Shreyas Mundhra, ssm2211"
   ]
  },
  {
   "cell_type": "code",
   "execution_count": 9,
   "metadata": {
    "collapsed": true
   },
   "outputs": [],
   "source": [
    "%matplotlib inline\n",
    "import matplotlib.pyplot as plt\n",
    "import numpy as np\n",
    "import scipy.misc\n",
    "import glob\n",
    "import sys\n",
    "# you shouldn't need to make any more imports"
   ]
  },
  {
   "cell_type": "code",
   "execution_count": 69,
   "metadata": {
    "collapsed": false
   },
   "outputs": [],
   "source": [
    "class NeuralNetwork(object):\n",
    "    \"\"\"\n",
    "    Abstraction of neural network.\n",
    "    Stores parameters, activations, cached values. \n",
    "    Provides necessary functions for training and prediction. \n",
    "    \"\"\"\n",
    "    def __init__(self, layer_dimensions, drop_prob=0.0, reg_lambda=0.0):\n",
    "        \"\"\"\n",
    "        Initializes the weights and biases for each layer\n",
    "        :param layer_dimensions: (list) number of nodes in each layer\n",
    "        :param drop_prob: drop probability for dropout layers. Only required in part 2 of the assignment\n",
    "        :param reg_lambda: regularization parameter. Only required in part 2 of the assignment\n",
    "        \"\"\"\n",
    "        np.random.seed(1)\n",
    "        \n",
    "        self.num_layers = len(layer_dimensions) #Length of tuple is the number of layers\n",
    "        self.parameters = {} \n",
    "        for i in range(1, self.num_layers):\n",
    "            curr_layer_dim = layer_dimensions[i]\n",
    "            prev_layer_dim = layer_dimensions[i-1]\n",
    "            # Random Initialisation of bias\n",
    "            bias = (np.random.uniform()/10)*np.ones((curr_layer_dim,1))\n",
    "            # Random Initialisation of weights\n",
    "            weight = np.random.normal(0,10*np.random.uniform(),(curr_layer_dim, prev_layer_dim)) \n",
    "            self.parameters[i] = [weight, bias]\n",
    "        self.drop_prob = 1 - drop_prob\n",
    "        self.reg_lambda = reg_lambda  \n",
    "        \n",
    "    def affineForward(self, A, W, b):\n",
    "        \"\"\"\n",
    "        Forward pass for the affine layer.\n",
    "        :param A: input matrix, shape (L, S), where L is the number of hidden units in the previous layer and S is\n",
    "        the number of samples\n",
    "        :returns: the affine product WA + b, along with the cache required for the backward pass\n",
    "        \"\"\"\n",
    "        y = np.matmul(W,A) + b\n",
    "        cache = [A,y,W]\n",
    "        return y, cache\n",
    "        \n",
    "\n",
    "    def activationForward(self, A, activation=\"relu\"):\n",
    "        \"\"\"¬\n",
    "        Common interface to access all activation functions.\n",
    "        :param A: input to the activation function\n",
    "        :param prob: activation funciton to apply to A. Just \"relu\" for this assignment.\n",
    "        :returns: activation(A)\n",
    "        \"\"\" \n",
    "        activation = self.relu(A)  # since no other activation fn exists\n",
    "        return activation\n",
    "\n",
    "\n",
    "    def relu(self, X):\n",
    "        A = np.maximum(0, X)\n",
    "        return A\n",
    "            \n",
    "    def dropout(self, A, prob):\n",
    "        M = (np.random.rand(*A.shape)<prob)/prob\n",
    "        A = A*M\n",
    "        return A, M\n",
    "           \n",
    "       # param A: \n",
    "       # :param prob: drop prob\n",
    "       # :returns: tuple (A, M) \n",
    "       #     WHERE\n",
    "       #     A is matrix after applying dropout\n",
    "       #     M is dropout mask, used in the backward pass\n",
    "      \n",
    "\n",
    "    def forwardPropagation(self, X):\n",
    "        \"\"\"\n",
    "        Runs an input X through the neural network to compute activations\n",
    "        for all layers. Returns the output computed at the last layer along\n",
    "        with the cache required for backpropagation.\n",
    "        :returns: (tuple) AL, cache\n",
    "            WHERE \n",
    "            AL is activation of last layer\n",
    "            cache is cached values for each layer that\n",
    "                     are needed in further steps\n",
    "        \"\"\"\n",
    "        cache = {}\n",
    "        prev_activation = X \n",
    "        for i in range(1, self.num_layers):\n",
    "            nodes = layer_dimensions[i]\n",
    "            curr_activations = np.zeros((nodes,X.shape[1])) # Get the column count of X - Can we comment this?\n",
    "            curr_activations, cache[i] = \\\n",
    "            self.affineForward(prev_activation, self.parameters[i][0], self.parameters[i][1])\n",
    "            curr_activations = self.activationForward(curr_activations)\n",
    "            prev_activation = curr_activations\n",
    "            \n",
    "        \n",
    "        AL = curr_activations\n",
    "\n",
    "        return AL, cache\n",
    "    \n",
    "    def costFunction(self, AL, y):\n",
    "        \"\"\"\n",
    "        :param AL: Activation of last layer, shape (num_classes, S)\n",
    "        :param y: labels, shape (S)\n",
    "        :param alpha: regularization parameter\n",
    "        :returns cost, dAL: A scalar denoting cost and the gradient of cost\n",
    "        \"\"\"\n",
    "        one_hot_y = one_hot(y)\n",
    "        \n",
    "        num_classes = one_hot_y.shape[0]\n",
    "        S = one_hot_y.shape[1]\n",
    "                \n",
    "        # compute loss\n",
    "        cost_matrix = one_hot_y - AL\n",
    "        cost = np.linalg.norm(cost_matrix,ord=2)\n",
    "        \n",
    "        if self.reg_lambda > 0:\n",
    "            pass\n",
    "            # add regularization\n",
    "       \n",
    "        \n",
    "        # gradient of cost\n",
    "        dAL_matrix = -cost_matrix\n",
    "        dAL = dAL_matrix[:,0]\n",
    "        for j in range(1,S):\n",
    "            dAL = dAL + dAL_matrix[:,j]\n",
    "            \n",
    "        dAL = dAL/float(S)\n",
    "        \n",
    "        return cost, dAL\n",
    "\n",
    "    def affineBackward(self, dA_prev, cache):\n",
    "        \"\"\"\n",
    "        Backward pass for the affine layer.\n",
    "        :param dA_prev: gradient from the next layer.\n",
    "        :param cache: cache returned in affineForward\n",
    "        :returns dA: gradient on the input to this layer\n",
    "                 dW: gradient on the weights\n",
    "                 db: gradient on the bias\n",
    "        \"\"\"\n",
    "        A_matrix = cache[0]\n",
    "        y_matrix = cache[1]\n",
    "        W = cache[2]\n",
    "        \n",
    "        S = y_matrix.shape[1]\n",
    "        \n",
    "        A = A_matrix[:,0]\n",
    "        for j in range(1,S):\n",
    "            A = A + A_matrix[:,j]\n",
    "        A = A/float(S)\n",
    "        A = A.reshape((len(A),1))\n",
    "        \n",
    "        dy = self.activationBackward(dA_prev, cache)\n",
    "        \n",
    "        dA = np.matmul(W.transpose(),dy)\n",
    "        dW = np.matmul(dy, A.transpose())\n",
    "        db = dy\n",
    "        return dA, dW, db\n",
    "\n",
    "    def activationBackward(self, dA, cache, activation=\"relu\"):\n",
    "        \"\"\"\n",
    "        Interface to call backward on activation functions.\n",
    "        In this case, it's just relu. \n",
    "        \"\"\"\n",
    "        dx = self.relu_derivative(dA,cache[1])\n",
    "        return dx\n",
    "\n",
    "        \n",
    "    def relu_derivative(self, dx, cached_x):\n",
    "        nodes, S = cached_x.shape\n",
    "        cached_x_derivative = np.zeros((nodes,1))\n",
    "        for i in range(0, nodes):\n",
    "            for j in range(0, S):\n",
    "                if cached_x[i,j] > 0:\n",
    "                    cached_x_derivative[i,0] = cached_x_derivative[i,0] + 1\n",
    "                    \n",
    "        cached_x_derivative = cached_x_derivative/float(S)\n",
    "        dx = np.multiply(dx.T,cached_x_derivative.T).T\n",
    "        return dx\n",
    "\n",
    "    def dropout_backward(self, dA, cache):\n",
    "\n",
    "        return dA\n",
    "\n",
    "    def backPropagation(self, dAL, Y, cache):\n",
    "        \"\"\"\n",
    "        Run backpropagation to compute gradients on all paramters in the model\n",
    "        :param dAL: gradient on the last layer of the network. Returned by the cost function.\n",
    "        :param Y: labels\n",
    "        :param cache: cached values during forwardprop\n",
    "        :returns gradients: dW and db for each weight/bias\n",
    "        \"\"\"\n",
    "        gradients = {}\n",
    "        \n",
    "        S = len(Y)\n",
    "        \n",
    "        dA_prev = dAL\n",
    "        \n",
    "        for l in range(self.num_layers-1,0,-1):\n",
    "            dA, dW, db = self.affineBackward(dA_prev, cache[l])\n",
    "            gradients[l] = [dW,db]\n",
    "            dA_prev = dA\n",
    "            \n",
    "        if self.drop_prob > 0:\n",
    "                #call dropout_backward\n",
    "                pass\n",
    "           \n",
    "            \n",
    "        if self.reg_lambda > 0:\n",
    "            # add gradients from L2 regularization to each dW\n",
    "            pass\n",
    "        \n",
    "        return gradients\n",
    "\n",
    "\n",
    "    def updateParameters(self, gradients, alpha):\n",
    "        \"\"\"\n",
    "        :param gradients: gradients for each weight/bias\n",
    "        :param alpha: step size for gradient descent \n",
    "        \"\"\"\n",
    "        for i in range(1, self.num_layers):\n",
    "            self.parameters[i][0] = self.parameters[i][0] - alpha*gradients[i][0]\n",
    "            self.parameters[i][1] = self.parameters[i][1] - alpha*gradients[i][1]\n",
    "\n",
    "    def train(self, X, y, iters=1000, alpha=0.0001, batch_size=100, print_every=100):\n",
    "        # TODO: divide into train and validation set\n",
    "        # TODO:  print train and val set accuracies\n",
    "        \n",
    "        \"\"\"\n",
    "        :param X: input samples, each column is a sample\n",
    "        :param y: labels for input samples, y.shape[0] must equal X.shape[1]\n",
    "        :param iters: number of training iterations\n",
    "        :param alpha: step size for gradient descent\n",
    "        :param batch_size: number of samples in a minibatch\n",
    "        :param print_every: no. of iterations to print debug info after\n",
    "        \"\"\"\n",
    "        \n",
    "        S = len(y)\n",
    "        train_split_percent = 90\n",
    "        \n",
    "        X_train = X[:, :train_split_percent*S/100]\n",
    "        y_train = y[:train_split_percent*S/100]\n",
    "        X_val = X[:, train_split_percent*S/100:]\n",
    "        y_val = y[train_split_percent*S/100:]\n",
    "        \n",
    "        X_batch, y_batch = self.get_batch(X_train,y_train,batch_size)\n",
    "        numBatches = len(y_batch)\n",
    "        \n",
    "        for i in range(0, iters):\n",
    "            for j in range(0, numBatches):\n",
    "                # get minibatch\n",
    "                X_mini = X_batch[j]\n",
    "                y_mini = y_batch[j]\n",
    "\n",
    "                # forward prop\n",
    "                AL, cache = self.forwardPropagation(X_mini)\n",
    "\n",
    "                # compute loss\n",
    "                cost, dAL = self.costFunction(AL, y_mini)\n",
    "\n",
    "                # compute gradients\n",
    "                gradients = self.backPropagation(dAL, y_mini, cache)\n",
    "\n",
    "                # update weights and biases based on gradient\n",
    "                self.updateParameters(gradients, alpha)\n",
    "\n",
    "            if i % print_every == 0:\n",
    "                y_pred_train = self.predict(X_train)\n",
    "                cost_train, dAL = self.costFunction(y_pred_train, y_train)\n",
    "                \n",
    "                y_pred_val = self.predict(X_val)\n",
    "                cost_val, dAL = self.costFunction(y_pred_val, y_val)\n",
    "                \n",
    "                # print cost, train and validation set accuracies\n",
    "                print(\"(Cost, training accuracy, val accuracy: )\", cost_train)\n",
    "                \n",
    "    def predict(self, X):\n",
    "        \"\"\"\n",
    "        Make predictions for each sample\n",
    "        \"\"\"         \n",
    "        AL, cache = self.forwardPropagation(X)\n",
    "        \n",
    "        S = AL.shape[1]\n",
    "        y_pred = np.zeros(S, dtype=int)\n",
    "        \n",
    "        for j in range(0, S):\n",
    "            y_pred[j] = np.argmax(AL[:,j])\n",
    "        \n",
    "        return one_hot(y_pred)\n",
    "\n",
    "    def get_batch(self, X, y, batch_size):\n",
    "        \"\"\"\n",
    "        Return minibatch of samples and labels\n",
    "        \n",
    "        :param X, y: samples and corresponding labels\n",
    "        :parma batch_size: minibatch size\n",
    "        :returns: (tuple) X_batch, y_batch\n",
    "        \"\"\"\n",
    "        n = len(y)\n",
    "        \n",
    "        X_batch = []\n",
    "        y_batch = []\n",
    "        for start in range(0,n-batch_size,batch_size):\n",
    "            X_batch.append(X[:,start:start+batch_size])\n",
    "            y_batch.append(y[start:start+batch_size])\n",
    "            \n",
    "        return X_batch, y_batch"
   ]
  },
  {
   "cell_type": "code",
   "execution_count": 13,
   "metadata": {
    "collapsed": true
   },
   "outputs": [],
   "source": [
    "# Helper functions, DO NOT modify this\n",
    "\n",
    "def get_img_array(path):\n",
    "    \"\"\"\n",
    "    Given path of image, returns it's numpy array\n",
    "    \"\"\"\n",
    "    return scipy.misc.imread(path)\n",
    "\n",
    "def get_files(folder):\n",
    "    \"\"\"\n",
    "    Given path to folder, returns list of files in it\n",
    "    \"\"\"\n",
    "    filenames = [file for file in glob.glob(folder+'*/*')]\n",
    "    filenames.sort()\n",
    "    return filenames\n",
    "\n",
    "def get_label(filepath, label2id):\n",
    "    \"\"\"\n",
    "    Files are assumed to be labeled as: /path/to/file/999_frog.png\n",
    "    Returns label for a filepath\n",
    "    \"\"\"\n",
    "    tokens = filepath.split('/')\n",
    "    label = tokens[-1].split('_')[1][:-4]\n",
    "    if label in label2id:\n",
    "        return label2id[label]\n",
    "    else:\n",
    "        sys.exit(\"Invalid label: \" + label)"
   ]
  },
  {
   "cell_type": "code",
   "execution_count": 14,
   "metadata": {
    "collapsed": false
   },
   "outputs": [],
   "source": [
    "# Functions to load data, DO NOT change these\n",
    "\n",
    "def get_labels(folder, label2id):\n",
    "    \"\"\"\n",
    "    Returns vector of labels extracted from filenames of all files in folder\n",
    "    :param folder: path to data folder\n",
    "    :param label2id: mapping of text labels to numeric ids. (Eg: automobile -> 0)\n",
    "    \"\"\"\n",
    "    files = get_files(folder)\n",
    "    y = []\n",
    "    for f in files:\n",
    "        y.append(get_label(f,label2id))\n",
    "    return np.array(y)\n",
    "\n",
    "def one_hot(y, num_classes=10):\n",
    "    \"\"\"\n",
    "    Converts each label index in y to vector with one_hot encoding\n",
    "    \"\"\"\n",
    "    y_one_hot = np.zeros((y.shape[0], num_classes))\n",
    "    y_one_hot[y] = 1\n",
    "    return y_one_hot.T\n",
    "\n",
    "def get_label_mapping(label_file):\n",
    "    \"\"\"\n",
    "    Returns mappings of label to index and index to label\n",
    "    The input file has list of labels, each on a separate line.\n",
    "    \"\"\"\n",
    "    with open(label_file, 'r') as f:\n",
    "        id2label = f.readlines()\n",
    "        id2label = [l.strip() for l in id2label]\n",
    "    label2id = {}\n",
    "    count = 0\n",
    "    for label in id2label:\n",
    "        label2id[label] = count\n",
    "        count += 1\n",
    "    return id2label, label2id\n",
    "\n",
    "def get_images(folder):\n",
    "    \"\"\"\n",
    "    returns numpy array of all samples in folder\n",
    "    each column is a sample resized to 30x30 and flattened\n",
    "    \"\"\"\n",
    "    files = get_files(folder)\n",
    "    images = []\n",
    "    count = 0\n",
    "    \n",
    "    for f in files:\n",
    "        count += 1\n",
    "        if count % 10000 == 0:\n",
    "            print(\"Loaded {}/{}\".format(count,len(files)))\n",
    "        img_arr = get_img_array(f)\n",
    "        img_arr = img_arr.flatten() / 255.0\n",
    "        images.append(img_arr)\n",
    "    X = np.column_stack(images)\n",
    "\n",
    "    return X\n",
    "\n",
    "def get_train_data(data_root_path):\n",
    "    \"\"\"\n",
    "    Return X and y\n",
    "    \"\"\"\n",
    "    train_data_path = data_root_path + 'train'\n",
    "    id2label, label2id = get_label_mapping(data_root_path+'labels.txt')\n",
    "    print(label2id)\n",
    "    X = get_images(train_data_path)\n",
    "    y = get_labels(train_data_path, label2id)\n",
    "    return X, y\n",
    "\n",
    "def save_predictions(filename, y):\n",
    "    \"\"\"\n",
    "    Dumps y into .npy file\n",
    "    \"\"\"\n",
    "    np.save(filename, y)"
   ]
  },
  {
   "cell_type": "code",
   "execution_count": 15,
   "metadata": {
    "collapsed": false
   },
   "outputs": [
    {
     "name": "stdout",
     "output_type": "stream",
     "text": [
      "{'horse': 7, 'automobile': 1, 'deer': 4, 'dog': 5, 'frog': 6, 'cat': 3, 'truck': 9, 'ship': 8, 'airplane': 0, 'bird': 2}\n",
      "Loaded 10000/17232\n",
      "Loaded 10000/10000\n",
      "Data loading done\n"
     ]
    }
   ],
   "source": [
    "# Load the data\n",
    "data_root_path = './cifar10-hw1/'\n",
    "X_train, y_train = get_train_data(data_root_path) # this may take a few minutes\n",
    "X_test = get_images(data_root_path + 'test')\n",
    "print('Data loading done')"
   ]
  },
  {
   "cell_type": "code",
   "execution_count": 16,
   "metadata": {
    "collapsed": false
   },
   "outputs": [],
   "source": [
    "# print(X_train.shape)\n",
    "# print(y_train.shape)\n",
    "# print(X_test.shape)\n",
    "# print(len(y_train))\n",
    "# print(y_train[5])"
   ]
  },
  {
   "cell_type": "markdown",
   "metadata": {},
   "source": [
    "## Part 1\n",
    "\n",
    "#### Simple fully-connected deep neural network"
   ]
  },
  {
   "cell_type": "code",
   "execution_count": 71,
   "metadata": {
    "collapsed": false,
    "scrolled": true
   },
   "outputs": [
    {
     "name": "stdout",
     "output_type": "stream",
     "text": [
      "('(Cost, training accuracy, val accuracy: )', 9.4868329805051381)\n",
      "('(Cost, training accuracy, val accuracy: )', 9.4868329805051381)\n",
      "('(Cost, training accuracy, val accuracy: )', 9.4868329805051381)\n",
      "('(Cost, training accuracy, val accuracy: )', 9.4868329805051381)\n",
      "('(Cost, training accuracy, val accuracy: )', 9.4868329805051381)\n",
      "('(Cost, training accuracy, val accuracy: )', 9.4868329805051381)\n",
      "('(Cost, training accuracy, val accuracy: )', 9.4868329805051381)\n",
      "('(Cost, training accuracy, val accuracy: )', 9.4868329805051381)\n",
      "('(Cost, training accuracy, val accuracy: )', 9.4868329805051381)\n",
      "('(Cost, training accuracy, val accuracy: )', 9.4868329805051381)\n"
     ]
    }
   ],
   "source": [
    "layer_dimensions = [X_train.shape[0], 3, 10]  # including the input and output layers\n",
    "NN = NeuralNetwork(layer_dimensions)\n",
    "NN.train(X_train, y_train, alpha=1)"
   ]
  },
  {
   "cell_type": "code",
   "execution_count": null,
   "metadata": {
    "collapsed": true
   },
   "outputs": [],
   "source": [
    "y_predicted = NN.predict(X_test)\n",
    "save_predictions('ans1-uni', y_predicted)"
   ]
  },
  {
   "cell_type": "code",
   "execution_count": null,
   "metadata": {
    "collapsed": true
   },
   "outputs": [],
   "source": [
    "# test if your numpy file has been saved correctly\n",
    "loaded_y = np.load('ans1-uni.npy')\n",
    "print(loaded_y.shape)\n",
    "loaded_y[:10]"
   ]
  },
  {
   "cell_type": "markdown",
   "metadata": {
    "collapsed": true
   },
   "source": [
    "## Part 2: Improving the performance"
   ]
  },
  {
   "cell_type": "code",
   "execution_count": null,
   "metadata": {
    "collapsed": true
   },
   "outputs": [],
   "source": [
    "NN2 = NeuralNetwork(layer_dimensions, drop_prob=0, reg_lambda=0)\n",
    "NN2.train(X_train, y_train, iters=1000, alpha=0.00001, batch_size=1000, print_every=10)"
   ]
  },
  {
   "cell_type": "code",
   "execution_count": null,
   "metadata": {
    "collapsed": true
   },
   "outputs": [],
   "source": [
    "y_predicted2 = NN2.predict(X)\n",
    "save_predictions(y_predicted, 'ans2-uni')"
   ]
  },
  {
   "cell_type": "markdown",
   "metadata": {},
   "source": [
    "Write down results for Part 2 here:\n",
    "..."
   ]
  },
  {
   "cell_type": "code",
   "execution_count": 126,
   "metadata": {
    "collapsed": false
   },
   "outputs": [
    {
     "data": {
      "text/plain": [
       "0.15606064446828216"
      ]
     },
     "execution_count": 126,
     "metadata": {},
     "output_type": "execute_result"
    }
   ],
   "source": [
    "import numpy as np\n",
    "a = np.array([0.7,0.8,0.6,0.3]).reshape(2,2)\n",
    "# = np.arange(2*4*2).reshape((2,4,2))\n",
    "# = np.arange(2*2*4).reshape((2,2,2))\n",
    "#print(\"A = \", (np.random.rand(*a.shape)<0.3)/0.3)\n",
    "#print(\"B = \", b)\n",
    "\n",
    "#print(\"Dot = \", np.dot(a,b))\n",
    "\n",
    "#print(\"Matmul = \", np.matmul(a,b))\n",
    "\n",
    "#np.random.seed(0);\n",
    "#np.random.rand(4)\n",
    "#10*np.random.uniform()\n",
    "#np.random.normal(0,2,(10,10))\n"
   ]
  },
  {
   "cell_type": "code",
   "execution_count": 152,
   "metadata": {
    "collapsed": false
   },
   "outputs": [
    {
     "name": "stdout",
     "output_type": "stream",
     "text": [
      "weight [[  7.82934072 -10.86774528   5.20450091  -5.36508355  -9.3388032 ]\n",
      " [ -5.70175423   5.57958156  -2.6834555   -1.45635979   2.89883828]\n",
      " [  3.90676038  -5.48807876   0.28179786  -0.53944225  -1.81890684]]\n",
      "bias [[ 0.06658591]\n",
      " [ 0.06658591]\n",
      " [ 0.06658591]]\n",
      "param [array([[  7.82934072, -10.86774528,   5.20450091,  -5.36508355,  -9.3388032 ],\n",
      "       [ -5.70175423,   5.57958156,  -2.6834555 ,  -1.45635979,\n",
      "          2.89883828],\n",
      "       [  3.90676038,  -5.48807876,   0.28179786,  -0.53944225,\n",
      "         -1.81890684]]), array([[ 0.06658591],\n",
      "       [ 0.06658591],\n",
      "       [ 0.06658591]])]\n"
     ]
    }
   ],
   "source": [
    "import numpy as np\n",
    "bias = (np.random.uniform()/10)*np.ones((3,1)) \n",
    "# Random Initialisation of weights\n",
    "weight = np.random.normal(0,10*np.random.uniform(),(3, 5)) \n",
    "param = [weight, bias]\n",
    "print(\"weight\", weight)\n",
    "print(\"bias\", bias)\n",
    "print(\"param\",param)"
   ]
  },
  {
   "cell_type": "code",
   "execution_count": null,
   "metadata": {
    "collapsed": true
   },
   "outputs": [],
   "source": []
  }
 ],
 "metadata": {
  "kernelspec": {
   "display_name": "Python 2",
   "language": "python",
   "name": "python2"
  },
  "language_info": {
   "codemirror_mode": {
    "name": "ipython",
    "version": 2
   },
   "file_extension": ".py",
   "mimetype": "text/x-python",
   "name": "python",
   "nbconvert_exporter": "python",
   "pygments_lexer": "ipython2",
   "version": "2.7.13"
  }
 },
 "nbformat": 4,
 "nbformat_minor": 2
}
