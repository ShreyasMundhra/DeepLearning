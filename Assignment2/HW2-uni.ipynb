{
 "cells": [
  {
   "cell_type": "code",
   "execution_count": 65,
   "metadata": {
    "collapsed": true
   },
   "outputs": [],
   "source": [
    "import tensorflow as tf\n",
    "import numpy as np\n",
    "import pandas as pd"
   ]
  },
  {
   "cell_type": "code",
   "execution_count": 51,
   "metadata": {
    "collapsed": true
   },
   "outputs": [],
   "source": [
    "from __future__ import absolute_import\n",
    "from __future__ import division\n",
    "from __future__ import print_function\n",
    "\n",
    "# Imports\n",
    "import numpy as np\n",
    "import tensorflow as tf\n",
    "\n",
    "tf.logging.set_verbosity(tf.logging.INFO)\n",
    "\n",
    "# Our application logic will be added here"
   ]
  },
  {
   "cell_type": "code",
   "execution_count": 38,
   "metadata": {
    "collapsed": true
   },
   "outputs": [],
   "source": [
    "train, test = tf.keras.datasets.cifar10.load_data()"
   ]
  },
  {
   "cell_type": "code",
   "execution_count": 39,
   "metadata": {
    "collapsed": true
   },
   "outputs": [],
   "source": [
    "x_train = train[0]\n",
    "y_train = train[1]\n",
    "x_test = test[0]\n",
    "y_test = test[1]"
   ]
  },
  {
   "cell_type": "code",
   "execution_count": 77,
   "metadata": {
    "collapsed": true
   },
   "outputs": [],
   "source": [
    "def cnn_model_fn(features, labels, mode):\n",
    "    \"\"\"Model function for CNN.\"\"\"\n",
    "    # Input Layer\n",
    "    input_layer = tf.reshape(features[\"x\"], [-1, 32, 32, 3])\n",
    "\n",
    "    # Convolutional Layer #1\n",
    "    conv1 = tf.layers.conv2d(\n",
    "      inputs=input_layer,\n",
    "      filters=32,\n",
    "      kernel_size=[5, 5],\n",
    "      padding=\"same\",\n",
    "      activation=tf.nn.relu)\n",
    "    \n",
    "    # Pooling Layer #1\n",
    "    pool1 = tf.layers.max_pooling2d(inputs=conv1, pool_size=[2, 2], strides=2)\n",
    "    \n",
    "    # Convolutional Layer #2 and Pooling Layer #2\n",
    "    conv2 = tf.layers.conv2d(\n",
    "      inputs=pool1,\n",
    "      filters=64,\n",
    "      kernel_size=[5, 5],\n",
    "      padding=\"same\",\n",
    "      activation=tf.nn.relu)\n",
    "        \n",
    "    pool2 = tf.layers.max_pooling2d(inputs=conv2, pool_size=[2, 2], strides=2)\n",
    "\n",
    "    # Dense Layer\n",
    "    pool2_flat = tf.reshape(pool2, [-1, 8 * 8 * 64])\n",
    "    dense = tf.layers.dense(inputs=pool2_flat, units=1024, activation=tf.nn.relu)\n",
    "    dropout = tf.layers.dropout(\n",
    "      inputs=dense, rate=0.4, training=mode == tf.estimator.ModeKeys.TRAIN)\n",
    "\n",
    "    # Logits Layer\n",
    "    logits = tf.layers.dense(inputs=dropout, units=10)\n",
    "\n",
    "    predictions = {\n",
    "      # Generate predictions (for PREDICT and EVAL mode)\n",
    "      \"classes\": tf.argmax(input=logits, axis=1),\n",
    "      # Add `softmax_tensor` to the graph. It is used for PREDICT and by the\n",
    "      # `logging_hook`.\n",
    "      \"probabilities\": tf.nn.softmax(logits, name=\"softmax_tensor\")\n",
    "    }\n",
    "\n",
    "    if mode == tf.estimator.ModeKeys.PREDICT:\n",
    "        return tf.estimator.EstimatorSpec(mode=mode, predictions=predictions)\n",
    "\n",
    "    # Calculate Loss (for both TRAIN and EVAL modes)\n",
    "    loss = tf.losses.sparse_softmax_cross_entropy(labels=labels, logits=logits)\n",
    "\n",
    "    # Configure the Training Op (for TRAIN mode)\n",
    "    if mode == tf.estimator.ModeKeys.TRAIN:\n",
    "        optimizer = tf.train.GradientDescentOptimizer(learning_rate=0.001)\n",
    "        train_op = optimizer.minimize(\n",
    "            loss=loss,\n",
    "            global_step=tf.train.get_global_step())\n",
    "        return tf.estimator.EstimatorSpec(mode=mode, loss=loss, train_op=train_op)\n",
    "\n",
    "    # Add evaluation metrics (for EVAL mode)\n",
    "    eval_metric_ops = {\n",
    "      \"accuracy\": tf.metrics.accuracy(\n",
    "          labels=labels, predictions=predictions[\"classes\"])}\n",
    "    return tf.estimator.EstimatorSpec(\n",
    "      mode=mode, loss=loss, eval_metric_ops=eval_metric_ops)"
   ]
  },
  {
   "cell_type": "code",
   "execution_count": 53,
   "metadata": {},
   "outputs": [
    {
     "name": "stdout",
     "output_type": "stream",
     "text": [
      "INFO:tensorflow:Using default config.\n",
      "INFO:tensorflow:Using config: {'_model_dir': './cifar10_convnet_model', '_tf_random_seed': None, '_save_summary_steps': 100, '_save_checkpoints_steps': None, '_save_checkpoints_secs': 600, '_session_config': None, '_keep_checkpoint_max': 5, '_keep_checkpoint_every_n_hours': 10000, '_log_step_count_steps': 100, '_service': None, '_cluster_spec': <tensorflow.python.training.server_lib.ClusterSpec object at 0x00000045BD41D358>, '_task_type': 'worker', '_task_id': 0, '_master': '', '_is_chief': True, '_num_ps_replicas': 0, '_num_worker_replicas': 1}\n"
     ]
    }
   ],
   "source": [
    "# Create the Estimator\n",
    "cifar10_classifier = tf.estimator.Estimator(\n",
    "    model_fn=cnn_model_fn, model_dir=\"./cifar10_convnet_model\")"
   ]
  },
  {
   "cell_type": "code",
   "execution_count": 54,
   "metadata": {
    "collapsed": true
   },
   "outputs": [],
   "source": [
    "# Set up logging for predictions\n",
    "tensors_to_log = {\"probabilities\": \"softmax_tensor\"}\n",
    "logging_hook = tf.train.LoggingTensorHook(\n",
    "  tensors=tensors_to_log, every_n_iter=50)"
   ]
  },
  {
   "cell_type": "code",
   "execution_count": 82,
   "metadata": {},
   "outputs": [
    {
     "name": "stdout",
     "output_type": "stream",
     "text": [
      "INFO:tensorflow:Create CheckpointSaverHook.\n",
      "INFO:tensorflow:Restoring parameters from ./cifar10_convnet_model\\model.ckpt-1100\n",
      "INFO:tensorflow:Saving checkpoints for 1101 into ./cifar10_convnet_model\\model.ckpt.\n",
      "INFO:tensorflow:loss = 2.17419, step = 1101\n",
      "INFO:tensorflow:global_step/sec: 1.70568\n",
      "INFO:tensorflow:loss = 2.18893, step = 1201 (58.632 sec)\n",
      "INFO:tensorflow:global_step/sec: 2.0484\n",
      "INFO:tensorflow:loss = 2.26661, step = 1301 (48.818 sec)\n",
      "INFO:tensorflow:global_step/sec: 2.21857\n",
      "INFO:tensorflow:loss = 2.22778, step = 1401 (45.084 sec)\n",
      "INFO:tensorflow:global_step/sec: 2.24358\n",
      "INFO:tensorflow:loss = 2.19275, step = 1501 (44.562 sec)\n",
      "INFO:tensorflow:global_step/sec: 2.2378\n",
      "INFO:tensorflow:loss = 2.23803, step = 1601 (44.686 sec)\n",
      "INFO:tensorflow:global_step/sec: 2.2382\n",
      "INFO:tensorflow:loss = 2.19886, step = 1701 (44.749 sec)\n",
      "INFO:tensorflow:global_step/sec: 2.2313\n",
      "INFO:tensorflow:loss = 2.11839, step = 1801 (44.747 sec)\n",
      "INFO:tensorflow:global_step/sec: 2.22782\n",
      "INFO:tensorflow:loss = 2.15729, step = 1901 (44.888 sec)\n",
      "INFO:tensorflow:global_step/sec: 2.2351\n",
      "INFO:tensorflow:loss = 2.11332, step = 2001 (44.752 sec)\n",
      "INFO:tensorflow:global_step/sec: 2.1632\n",
      "INFO:tensorflow:loss = 2.06509, step = 2101 (46.216 sec)\n",
      "INFO:tensorflow:global_step/sec: 2.2037\n",
      "INFO:tensorflow:loss = 2.09234, step = 2201 (45.378 sec)\n",
      "INFO:tensorflow:global_step/sec: 2.24036\n",
      "INFO:tensorflow:loss = 2.13735, step = 2301 (44.648 sec)\n",
      "INFO:tensorflow:Saving checkpoints for 2395 into ./cifar10_convnet_model\\model.ckpt.\n",
      "INFO:tensorflow:global_step/sec: 2.16596\n",
      "INFO:tensorflow:loss = 2.13874, step = 2401 (46.157 sec)\n",
      "INFO:tensorflow:global_step/sec: 2.2358\n",
      "INFO:tensorflow:loss = 2.08549, step = 2501 (44.727 sec)\n",
      "INFO:tensorflow:global_step/sec: 2.04458\n",
      "INFO:tensorflow:loss = 2.00131, step = 2601 (48.930 sec)\n",
      "INFO:tensorflow:global_step/sec: 2.08982\n",
      "INFO:tensorflow:loss = 2.08397, step = 2701 (47.832 sec)\n",
      "INFO:tensorflow:global_step/sec: 2.22282\n",
      "INFO:tensorflow:loss = 1.98867, step = 2801 (44.988 sec)\n",
      "INFO:tensorflow:global_step/sec: 2.21248\n",
      "INFO:tensorflow:loss = 1.91291, step = 2901 (45.208 sec)\n",
      "INFO:tensorflow:global_step/sec: 2.15225\n",
      "INFO:tensorflow:loss = 1.92163, step = 3001 (46.452 sec)\n",
      "INFO:tensorflow:global_step/sec: 2.2053\n",
      "INFO:tensorflow:loss = 1.93536, step = 3101 (45.346 sec)\n",
      "INFO:tensorflow:global_step/sec: 2.21601\n",
      "INFO:tensorflow:loss = 1.96165, step = 3201 (45.137 sec)\n",
      "INFO:tensorflow:global_step/sec: 2.2203\n",
      "INFO:tensorflow:loss = 1.94894, step = 3301 (45.028 sec)\n",
      "INFO:tensorflow:global_step/sec: 2.21867\n",
      "INFO:tensorflow:loss = 1.98872, step = 3401 (45.072 sec)\n",
      "INFO:tensorflow:global_step/sec: 2.21971\n",
      "INFO:tensorflow:loss = 1.99546, step = 3501 (45.060 sec)\n",
      "INFO:tensorflow:global_step/sec: 2.21454\n",
      "INFO:tensorflow:loss = 2.01896, step = 3601 (45.146 sec)\n",
      "INFO:tensorflow:Saving checkpoints for 3691 into ./cifar10_convnet_model\\model.ckpt.\n",
      "INFO:tensorflow:global_step/sec: 1.89982\n",
      "INFO:tensorflow:loss = 1.83715, step = 3701 (52.637 sec)\n",
      "INFO:tensorflow:global_step/sec: 2.24021\n",
      "INFO:tensorflow:loss = 2.08511, step = 3801 (44.656 sec)\n",
      "INFO:tensorflow:global_step/sec: 1.73295\n",
      "INFO:tensorflow:loss = 1.88869, step = 3901 (57.688 sec)\n",
      "INFO:tensorflow:global_step/sec: 1.91328\n",
      "INFO:tensorflow:loss = 1.89139, step = 4001 (52.267 sec)\n",
      "INFO:tensorflow:global_step/sec: 1.44116\n",
      "INFO:tensorflow:loss = 1.82676, step = 4101 (69.407 sec)\n",
      "INFO:tensorflow:global_step/sec: 1.41059\n",
      "INFO:tensorflow:loss = 1.87446, step = 4201 (70.873 sec)\n",
      "INFO:tensorflow:global_step/sec: 1.58003\n",
      "INFO:tensorflow:loss = 1.7902, step = 4301 (63.309 sec)\n",
      "INFO:tensorflow:global_step/sec: 1.59572\n",
      "INFO:tensorflow:loss = 1.82838, step = 4401 (62.648 sec)\n",
      "INFO:tensorflow:global_step/sec: 2.06341\n",
      "INFO:tensorflow:loss = 1.69591, step = 4501 (48.464 sec)\n",
      "INFO:tensorflow:global_step/sec: 1.6823\n",
      "INFO:tensorflow:loss = 1.90129, step = 4601 (59.454 sec)\n",
      "INFO:tensorflow:global_step/sec: 2.00186\n",
      "INFO:tensorflow:loss = 1.72649, step = 4701 (49.941 sec)\n",
      "INFO:tensorflow:Saving checkpoints for 4738 into ./cifar10_convnet_model\\model.ckpt.\n",
      "INFO:tensorflow:global_step/sec: 2.19997\n",
      "INFO:tensorflow:loss = 1.63777, step = 4801 (45.454 sec)\n",
      "INFO:tensorflow:global_step/sec: 2.21567\n",
      "INFO:tensorflow:loss = 1.78353, step = 4901 (45.147 sec)\n",
      "INFO:tensorflow:global_step/sec: 1.44293\n",
      "INFO:tensorflow:loss = 1.71365, step = 5001 (69.293 sec)\n",
      "INFO:tensorflow:global_step/sec: 1.37968\n",
      "INFO:tensorflow:loss = 1.80415, step = 5101 (72.510 sec)\n",
      "INFO:tensorflow:global_step/sec: 1.37738\n",
      "INFO:tensorflow:loss = 1.86443, step = 5201 (72.571 sec)\n",
      "INFO:tensorflow:global_step/sec: 1.69027\n",
      "INFO:tensorflow:loss = 1.71715, step = 5301 (59.171 sec)\n",
      "INFO:tensorflow:global_step/sec: 1.73929\n",
      "INFO:tensorflow:loss = 1.74232, step = 5401 (57.487 sec)\n",
      "INFO:tensorflow:global_step/sec: 1.48721\n",
      "INFO:tensorflow:loss = 1.76543, step = 5501 (67.255 sec)\n",
      "INFO:tensorflow:global_step/sec: 1.47078\n",
      "INFO:tensorflow:loss = 1.76756, step = 5601 (67.975 sec)\n",
      "INFO:tensorflow:Saving checkpoints for 5683 into ./cifar10_convnet_model\\model.ckpt.\n",
      "INFO:tensorflow:global_step/sec: 1.35121\n",
      "INFO:tensorflow:loss = 1.79463, step = 5701 (74.008 sec)\n",
      "INFO:tensorflow:global_step/sec: 1.39556\n",
      "INFO:tensorflow:loss = 1.67065, step = 5801 (71.656 sec)\n",
      "INFO:tensorflow:global_step/sec: 1.55003\n",
      "INFO:tensorflow:loss = 1.61547, step = 5901 (64.531 sec)\n",
      "INFO:tensorflow:global_step/sec: 1.63923\n",
      "INFO:tensorflow:loss = 1.83675, step = 6001 (60.989 sec)\n",
      "INFO:tensorflow:global_step/sec: 1.63184\n",
      "INFO:tensorflow:loss = 1.44255, step = 6101 (61.294 sec)\n",
      "INFO:tensorflow:global_step/sec: 1.72075\n",
      "INFO:tensorflow:loss = 1.73326, step = 6201 (58.098 sec)\n",
      "INFO:tensorflow:global_step/sec: 1.7813\n",
      "INFO:tensorflow:loss = 1.64826, step = 6301 (56.141 sec)\n",
      "INFO:tensorflow:global_step/sec: 1.71015\n",
      "INFO:tensorflow:loss = 1.72517, step = 6401 (58.487 sec)\n",
      "INFO:tensorflow:global_step/sec: 1.63261\n",
      "INFO:tensorflow:loss = 1.60456, step = 6501 (61.241 sec)\n",
      "INFO:tensorflow:global_step/sec: 1.60611\n",
      "INFO:tensorflow:loss = 1.73745, step = 6601 (62.276 sec)\n",
      "INFO:tensorflow:Saving checkpoints for 6647 into ./cifar10_convnet_model\\model.ckpt.\n",
      "INFO:tensorflow:global_step/sec: 1.46998\n",
      "INFO:tensorflow:loss = 1.68476, step = 6701 (68.012 sec)\n",
      "INFO:tensorflow:global_step/sec: 1.361\n",
      "INFO:tensorflow:loss = 1.66647, step = 6801 (73.492 sec)\n",
      "INFO:tensorflow:global_step/sec: 1.49899\n",
      "INFO:tensorflow:loss = 1.85808, step = 6901 (66.694 sec)\n",
      "INFO:tensorflow:global_step/sec: 1.34612\n",
      "INFO:tensorflow:loss = 1.58027, step = 7001 (74.300 sec)\n",
      "INFO:tensorflow:global_step/sec: 1.79854\n",
      "INFO:tensorflow:loss = 1.58137, step = 7101 (55.589 sec)\n",
      "INFO:tensorflow:global_step/sec: 1.40263\n",
      "INFO:tensorflow:loss = 1.65033, step = 7201 (71.306 sec)\n",
      "INFO:tensorflow:global_step/sec: 1.50656\n",
      "INFO:tensorflow:loss = 1.56546, step = 7301 (66.365 sec)\n",
      "INFO:tensorflow:global_step/sec: 1.7112\n",
      "INFO:tensorflow:loss = 1.53101, step = 7401 (58.456 sec)\n",
      "INFO:tensorflow:global_step/sec: 1.71578\n",
      "INFO:tensorflow:loss = 1.72332, step = 7501 (58.266 sec)\n",
      "INFO:tensorflow:Saving checkpoints for 7569 into ./cifar10_convnet_model\\model.ckpt.\n",
      "INFO:tensorflow:global_step/sec: 1.72792\n",
      "INFO:tensorflow:loss = 1.56304, step = 7601 (57.875 sec)\n",
      "INFO:tensorflow:global_step/sec: 1.69546\n",
      "INFO:tensorflow:loss = 1.36582, step = 7701 (58.991 sec)\n",
      "INFO:tensorflow:global_step/sec: 1.95544\n",
      "INFO:tensorflow:loss = 1.56207, step = 7801 (51.126 sec)\n",
      "INFO:tensorflow:global_step/sec: 2.21833\n",
      "INFO:tensorflow:loss = 1.48219, step = 7901 (45.078 sec)\n",
      "INFO:tensorflow:global_step/sec: 2.2242\n",
      "INFO:tensorflow:loss = 1.53328, step = 8001 (44.971 sec)\n",
      "INFO:tensorflow:global_step/sec: 2.22351\n",
      "INFO:tensorflow:loss = 1.64818, step = 8101 (44.963 sec)\n",
      "INFO:tensorflow:global_step/sec: 2.22881\n",
      "INFO:tensorflow:loss = 1.66517, step = 8201 (44.867 sec)\n",
      "INFO:tensorflow:global_step/sec: 1.63821\n",
      "INFO:tensorflow:loss = 1.62306, step = 8301 (61.053 sec)\n",
      "INFO:tensorflow:global_step/sec: 1.87805\n",
      "INFO:tensorflow:loss = 1.67059, step = 8401 (53.237 sec)\n",
      "INFO:tensorflow:global_step/sec: 1.93736\n",
      "INFO:tensorflow:loss = 1.57615, step = 8501 (51.618 sec)\n",
      "INFO:tensorflow:global_step/sec: 2.05581\n",
      "INFO:tensorflow:loss = 1.58429, step = 8601 (48.658 sec)\n",
      "INFO:tensorflow:global_step/sec: 1.62716\n",
      "INFO:tensorflow:loss = 1.47035, step = 8701 (61.441 sec)\n"
     ]
    },
    {
     "name": "stdout",
     "output_type": "stream",
     "text": [
      "INFO:tensorflow:Saving checkpoints for 8724 into ./cifar10_convnet_model\\model.ckpt.\n",
      "INFO:tensorflow:global_step/sec: 1.64959\n",
      "INFO:tensorflow:loss = 1.52704, step = 8801 (60.636 sec)\n",
      "INFO:tensorflow:global_step/sec: 1.57738\n",
      "INFO:tensorflow:loss = 1.48398, step = 8901 (63.381 sec)\n",
      "INFO:tensorflow:global_step/sec: 2.20059\n",
      "INFO:tensorflow:loss = 1.38296, step = 9001 (45.442 sec)\n",
      "INFO:tensorflow:global_step/sec: 2.2328\n",
      "INFO:tensorflow:loss = 1.4031, step = 9101 (44.797 sec)\n",
      "INFO:tensorflow:global_step/sec: 2.2204\n",
      "INFO:tensorflow:loss = 1.4414, step = 9201 (45.026 sec)\n",
      "INFO:tensorflow:global_step/sec: 1.7847\n",
      "INFO:tensorflow:loss = 1.51063, step = 9301 (56.034 sec)\n",
      "INFO:tensorflow:global_step/sec: 1.84527\n",
      "INFO:tensorflow:loss = 1.34826, step = 9401 (54.202 sec)\n",
      "INFO:tensorflow:global_step/sec: 2.18476\n",
      "INFO:tensorflow:loss = 1.40324, step = 9501 (45.762 sec)\n",
      "INFO:tensorflow:global_step/sec: 2.16582\n",
      "INFO:tensorflow:loss = 1.52861, step = 9601 (46.171 sec)\n",
      "INFO:tensorflow:global_step/sec: 2.21567\n",
      "INFO:tensorflow:loss = 1.45547, step = 9701 (45.145 sec)\n",
      "INFO:tensorflow:global_step/sec: 2.23325\n",
      "INFO:tensorflow:loss = 1.45611, step = 9801 (44.766 sec)\n",
      "INFO:tensorflow:global_step/sec: 2.23365\n",
      "INFO:tensorflow:loss = 1.38846, step = 9901 (44.770 sec)\n",
      "INFO:tensorflow:Saving checkpoints for 9945 into ./cifar10_convnet_model\\model.ckpt.\n",
      "INFO:tensorflow:global_step/sec: 2.20487\n",
      "INFO:tensorflow:loss = 1.49518, step = 10001 (45.368 sec)\n",
      "INFO:tensorflow:global_step/sec: 2.22847\n",
      "INFO:tensorflow:loss = 1.34915, step = 10101 (44.861 sec)\n",
      "INFO:tensorflow:global_step/sec: 2.21739\n",
      "INFO:tensorflow:loss = 1.42755, step = 10201 (45.097 sec)\n",
      "INFO:tensorflow:global_step/sec: 2.21764\n",
      "INFO:tensorflow:loss = 1.47555, step = 10301 (45.105 sec)\n",
      "INFO:tensorflow:global_step/sec: 2.21651\n",
      "INFO:tensorflow:loss = 1.29707, step = 10401 (45.104 sec)\n",
      "INFO:tensorflow:global_step/sec: 2.21577\n",
      "INFO:tensorflow:loss = 1.38924, step = 10501 (45.131 sec)\n",
      "INFO:tensorflow:global_step/sec: 2.21941\n",
      "INFO:tensorflow:loss = 1.3691, step = 10601 (45.068 sec)\n",
      "INFO:tensorflow:global_step/sec: 2.21243\n",
      "INFO:tensorflow:loss = 1.28532, step = 10701 (45.189 sec)\n",
      "INFO:tensorflow:global_step/sec: 2.21567\n",
      "INFO:tensorflow:loss = 1.32706, step = 10801 (45.132 sec)\n",
      "INFO:tensorflow:global_step/sec: 2.2171\n",
      "INFO:tensorflow:loss = 1.42, step = 10901 (45.114 sec)\n",
      "INFO:tensorflow:global_step/sec: 2.20847\n",
      "INFO:tensorflow:loss = 1.69165, step = 11001 (45.271 sec)\n",
      "INFO:tensorflow:Saving checkpoints for 11100 into ./cifar10_convnet_model\\model.ckpt.\n",
      "INFO:tensorflow:Loss for final step: 1.5004.\n"
     ]
    },
    {
     "data": {
      "text/plain": [
       "<tensorflow.python.estimator.estimator.Estimator at 0x45bd41da90>"
      ]
     },
     "execution_count": 82,
     "metadata": {},
     "output_type": "execute_result"
    }
   ],
   "source": [
    "# Train the model\n",
    "train_input_fn = tf.estimator.inputs.numpy_input_fn(\n",
    "    x={\"x\": x_train.astype(np.float32)},\n",
    "    y=y_train.astype(np.int32),\n",
    "    batch_size=100,\n",
    "    num_epochs=None,\n",
    "    shuffle=True)\n",
    "cifar10_classifier.train(\n",
    "    input_fn=train_input_fn,\n",
    "    steps=10000,\n",
    "    hooks=[])"
   ]
  },
  {
   "cell_type": "code",
   "execution_count": 83,
   "metadata": {},
   "outputs": [
    {
     "name": "stdout",
     "output_type": "stream",
     "text": [
      "INFO:tensorflow:Starting evaluation at 2018-02-25-01:43:02\n",
      "INFO:tensorflow:Restoring parameters from ./cifar10_convnet_model\\model.ckpt-11100\n",
      "INFO:tensorflow:Finished evaluation at 2018-02-25-01:43:19\n",
      "INFO:tensorflow:Saving dict for global step 11100: accuracy = 0.5211, global_step = 11100, loss = 1.36193\n",
      "{'accuracy': 0.52109998, 'loss': 1.3619258, 'global_step': 11100}\n"
     ]
    }
   ],
   "source": [
    "# Evaluate the model and print results\n",
    "eval_input_fn = tf.estimator.inputs.numpy_input_fn(\n",
    "    x={\"x\": x_test.astype(np.float32)},\n",
    "    y=y_test.astype(np.int32),\n",
    "    num_epochs=1,\n",
    "    shuffle=False)\n",
    "eval_results = cifar10_classifier.evaluate(input_fn=eval_input_fn)\n",
    "print(eval_results)"
   ]
  },
  {
   "cell_type": "code",
   "execution_count": 107,
   "metadata": {},
   "outputs": [
    {
     "name": "stdout",
     "output_type": "stream",
     "text": [
      "<generator object Estimator.predict at 0x00000045B97C2200>\n"
     ]
    }
   ],
   "source": [
    "# Evaluate the model and print results\n",
    "pred_input_fn = tf.estimator.inputs.numpy_input_fn(\n",
    "    x={\"x\": x_test.astype(np.float32)},\n",
    "    num_epochs=1,\n",
    "    shuffle=False)\n",
    "pred_results = cifar10_classifier.predict(input_fn=pred_input_fn, predict_keys=\"classes\")"
   ]
  },
  {
   "cell_type": "code",
   "execution_count": 108,
   "metadata": {},
   "outputs": [
    {
     "name": "stdout",
     "output_type": "stream",
     "text": [
      "INFO:tensorflow:Restoring parameters from ./cifar10_convnet_model\\model.ckpt-11100\n"
     ]
    }
   ],
   "source": [
    "pred_df = pd.DataFrame.from_records(list(pred_results))\n",
    "pred_df.index.names=['ID']\n",
    "pred_df.columns = ['CLASSES']\n",
    "pred_df.to_csv('preds.csv')"
   ]
  }
 ],
 "metadata": {
  "kernelspec": {
   "display_name": "Python 3",
   "language": "python",
   "name": "python3"
  },
  "language_info": {
   "codemirror_mode": {
    "name": "ipython",
    "version": 3
   },
   "file_extension": ".py",
   "mimetype": "text/x-python",
   "name": "python",
   "nbconvert_exporter": "python",
   "pygments_lexer": "ipython3",
   "version": "3.6.3"
  }
 },
 "nbformat": 4,
 "nbformat_minor": 2
}
